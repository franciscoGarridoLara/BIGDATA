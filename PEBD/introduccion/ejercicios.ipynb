{
 "cells": [
  {
   "cell_type": "code",
   "execution_count": 2,
   "metadata": {},
   "outputs": [
    {
     "name": "stdout",
     "output_type": "stream",
     "text": [
      "False\n"
     ]
    }
   ],
   "source": [
    "#Escribe una función que reciba una lista de listas de enteros, y compruebe si es válida como matriz. Es válida si todas las filas tienen el mismo número de columnas.\n",
    "\n",
    "\n",
    "def esValida(matriz):\n",
    "    return len(list(filter(lambda v : len(v) == len(matriz[0]), matriz))) == len(matriz)\n",
    "    \n",
    "print(esValida([[0], [0,1], [0]]))"
   ]
  },
  {
   "cell_type": "code",
   "execution_count": 32,
   "metadata": {},
   "outputs": [
    {
     "name": "stdout",
     "output_type": "stream",
     "text": [
      "[[0, 1], [0, 2]]  +  [[3, 4], [5, 6]]\n",
      "[[3, 5], [5, 8]]\n"
     ]
    }
   ],
   "source": [
    "#Escribe una función que reciba dos matrices (representadas como en el ejercicio anterior) y devuelva una nueva matriz con la suma. Hay que comprobar que las matrices sean válidas y tengan la misma dimensión.\n",
    "\n",
    "def esValida(matriz):\n",
    "    return len(list(filter(lambda v : len(v) == len(matriz[0]), matriz))) == len(matriz)\n",
    "\n",
    "def sumaMatrices(m1, m2):\n",
    "    print(m1,\" + \",m2)\n",
    "    result = list()\n",
    "    for v in zip(m1, m2):\n",
    "       result.append(list(map(sum, zip(*v))))\n",
    "\n",
    "    return result\n",
    "        \n",
    "\n",
    "matriz1 = [[0,1],[0,2]]\n",
    "matriz2 = [[3,4],[5,6]]\n",
    "\n",
    "result =sumaMatrices(matriz1, matriz2) if esValida(matriz1) and esValida(matriz2) and len(matriz1) == len(matriz2) and len(matriz1[0]) == len(matriz2[0]) else print(\"Las matrices no se pueden sumar\")\n",
    "print(result)\n"
   ]
  },
  {
   "cell_type": "code",
   "execution_count": 11,
   "metadata": {},
   "outputs": [
    {
     "name": "stdout",
     "output_type": "stream",
     "text": [
      "[0, 1, 2, 3, 4, 5, 6, 7]\n",
      "[8, 9, 10, 9, 8, 7, 6, 7]\n"
     ]
    },
    {
     "data": {
      "text/plain": [
       "[7, 10]"
      ]
     },
     "execution_count": 11,
     "metadata": {},
     "output_type": "execute_result"
    }
   ],
   "source": [
    "#1. Escribe la funcion:\n",
    "\n",
    "# buscarMaximo(matriz, eje = 2)\n",
    "\n",
    "# El primer argumento es una matriz (representada como en el ejercicio anterior) . El valor del segundo argumento indica qué cálculo hay que realizar:\n",
    "\n",
    "# Si es 0, hay que buscar el valor máximo para cada columna.  Se devolverá una lista con tantas posiciones como columnas.\n",
    "# Si es 1, hay que buscar el valor máximo para cada fila.  Se devolverá una lista con tantas posiciones como filas.\n",
    "# Si es 2, el valor por defecto, devolverá un solo número, el mayor de la matriz.\n",
    "\n",
    "# Hay que comprobar que la matriz  y el valor de eje sean válidos o lanzar excepciones apropiadas.\n",
    "\n",
    "# IMPORTANTE: la función max() devuelve el valor máximo de una lista.\n",
    "\n",
    "def buscarMaximo(matriz, eje = 2):\n",
    "    for v in matriz: print(v)\n",
    "    if(eje == 0):\n",
    "        #TODO\n",
    "        return False\n",
    "    elif(eje == 1):\n",
    "        return list(map(max, matriz))\n",
    "    elif(eje == 2):\n",
    "        return list(map(max, matriz))\n",
    "\n",
    "buscarMaximo([[0,1,2,3,4,5,6,7],[8,9,10,9,8,7,6,7]], eje = 0)\n",
    "\n",
    "\n"
   ]
  },
  {
   "cell_type": "code",
   "execution_count": 12,
   "metadata": {},
   "outputs": [
    {
     "name": "stdout",
     "output_type": "stream",
     "text": [
      "1 / 2\n",
      "9 / 10\n"
     ]
    }
   ],
   "source": [
    "#Escribir una clase para representar en Fracciones con:\n",
    "\n",
    "\n",
    "class Fraccion():\n",
    "    def __init__(self, n, d):\n",
    "        self.n = n\n",
    "        self.d = d\n",
    "    \n",
    "    def printFraccion(self):\n",
    "        print(f\"{self.n} / {self.d}\")\n",
    "    #1/2 + 2/5 => 1*5 + 2*2 / 2 * 5 = 9/10\n",
    "    #a/b + c/d => a*d + b*c / b*d\n",
    "    def sumarFraccion(self, fraccion):\n",
    "        return Fraccion(self.n * fraccion.d + self.d * fraccion.n, self.d * fraccion.d)\n",
    "\n",
    "f = Fraccion(1,2)\n",
    "\n",
    "f.printFraccion()\n",
    "\n",
    "f.sumarFraccion(Fraccion(2,5)).printFraccion()\n"
   ]
  },
  {
   "cell_type": "code",
   "execution_count": 20,
   "metadata": {},
   "outputs": [
    {
     "name": "stdout",
     "output_type": "stream",
     "text": [
      "1\n",
      "4\n",
      "68\n",
      "country {'name': 'Liechtenstein'}\n",
      "country {'name': 'Singapore'}\n",
      "country {'name': 'Panama'}\n"
     ]
    }
   ],
   "source": [
    "\n",
    "#Leer un archivo xml y recorrer sus hijos.\n",
    "\n",
    "import xml.etree.ElementTree as ET\n",
    "tree = ET.parse('example.xml')\n",
    "root = tree.getroot()\n",
    "\n",
    "for country in root.findall(\".//country\"):\n",
    "    print(country.find(\"rank\").text)\n",
    "\n",
    "    \n",
    "for child in root:\n",
    "    print(child.tag, child.attrib)"
   ]
  },
  {
   "cell_type": "code",
   "execution_count": 6,
   "metadata": {},
   "outputs": [
    {
     "name": "stdout",
     "output_type": "stream",
     "text": [
      "-Info.terremoto: 15/02/2024 8:08:06\n",
      "-Info.terremoto: 14/02/2024 23:00:10\n",
      "-Info.terremoto: 14/02/2024 21:01:09\n",
      "-Info.terremoto: 14/02/2024 13:33:43\n",
      "-Info.terremoto: 14/02/2024 4:41:34\n",
      "-Info.terremoto: 13/02/2024 16:05:38\n",
      "-Info.terremoto: 12/02/2024 21:20:36\n",
      "-Info.terremoto: 11/02/2024 12:59:11\n",
      "-Info.terremoto: 10/02/2024 21:39:06\n",
      "-Info.terremoto: 10/02/2024 12:28:25\n",
      "-Info.terremoto: 09/02/2024 11:01:09\n",
      "-Info.terremoto: 08/02/2024 14:22:15\n",
      "-Info.terremoto: 07/02/2024 2:03:10\n",
      "-Info.terremoto: 06/02/2024 15:51:34\n",
      "-Info.terremoto: 06/02/2024 1:24:31\n",
      "-Info.terremoto: 06/02/2024 0:56:34\n",
      "-Info.terremoto: 05/02/2024 22:36:13\n",
      "-Info.terremoto: 05/02/2024 20:26:54\n"
     ]
    }
   ],
   "source": [
    "#Para leer un archivo desde una url utilizmaos fromstring y con la libreria de requests\n",
    "\n",
    "import requests\n",
    "import xml.etree.ElementTree as ET\n",
    "\n",
    "root = ET.fromstring(requests.get(\"https://www.ign.es/ign/RssTools/sismologia.xml\").text)\n",
    "\n",
    "terremotos = root.findall(\".//item\")\n",
    "\n",
    "# for t in terremotos:\n",
    "#     print(t[0].text)\n",
    "\n",
    "for t in terremotos:\n",
    "    titulo = t.find(\".title\")\n",
    "    print(titulo.text)\n",
    "\n",
    "\n",
    "\n",
    "\n"
   ]
  },
  {
   "cell_type": "code",
   "execution_count": 17,
   "metadata": {},
   "outputs": [
    {
     "name": "stdout",
     "output_type": "stream",
     "text": [
      "Una quincena de tractores se concentran en la sede de Agricultura antes de la reunión de Planas y las asociaciones\n"
     ]
    }
   ],
   "source": [
    "#Mostrar solo las noticias con la categoría \"huelgas\"\n",
    "\n",
    "import requests\n",
    "import xml.etree.ElementTree as ET\n",
    "\n",
    "CATEGORIA = \"Huelgas\"\n",
    "\n",
    "root = ET.fromstring(requests.get(\"https://feeds.elpais.com/mrss-s/pages/ep/site/elpais.com/section/ultimas-noticias/portada\").text)\n",
    "\n",
    "items = root.findall(\".//item\")\n",
    "\n",
    "noticias_huelgas = list()\n",
    "\n",
    "for i in items:\n",
    "    categorias = list(map(lambda x : x.text, i.findall(\".category\")))\n",
    "    if(CATEGORIA in categorias):\n",
    "        print(i.find(\".title\").text)  "
   ]
  },
  {
   "cell_type": "code",
   "execution_count": 47,
   "metadata": {},
   "outputs": [
    {
     "name": "stdout",
     "output_type": "stream",
     "text": [
      "-Info.terremoto: 15/02/2024 8:08:06\n",
      "-Info.terremoto: 14/02/2024 13:33:43\n",
      "-Info.terremoto: 13/02/2024 16:05:38\n",
      "-Info.terremoto: 11/02/2024 12:59:11\n",
      "-Info.terremoto: 06/02/2024 1:24:31\n",
      "-Info.terremoto: 06/02/2024 0:56:34\n"
     ]
    }
   ],
   "source": [
    "#Mostrar terremotos con magnitud mayor a 3 en los últimos 10 días\n",
    "\n",
    "import requests\n",
    "import xml.etree.ElementTree as ET\n",
    "from datetime import datetime, timedelta\n",
    "\n",
    "root = ET.fromstring(requests.get(\"https://www.ign.es/ign/RssTools/sismologia.xml\").text)\n",
    "\n",
    "terremotos = root.findall(\".//item\")\n",
    "\n",
    "\n",
    "\n",
    "for t in terremotos:\n",
    "    \n",
    "    fecha = datetime.strptime(t.find(\".title\").text.split(\" \")[1], \"%d/%m/%Y\")\n",
    "\n",
    "    if(fecha >= datetime.now() - timedelta(days=10)):\n",
    "        text = t.find(\".description\").text.split(\" \")\n",
    "        if float(text[7]) > 3:\n",
    "            print(t.find(\".title\").text)\n",
    "\n",
    "\n",
    "    "
   ]
  },
  {
   "cell_type": "code",
   "execution_count": null,
   "metadata": {},
   "outputs": [],
   "source": []
  }
 ],
 "metadata": {
  "kernelspec": {
   "display_name": "Python 3",
   "language": "python",
   "name": "python3"
  },
  "language_info": {
   "codemirror_mode": {
    "name": "ipython",
    "version": 3
   },
   "file_extension": ".py",
   "mimetype": "text/x-python",
   "name": "python",
   "nbconvert_exporter": "python",
   "pygments_lexer": "ipython3",
   "version": "3.8.10"
  }
 },
 "nbformat": 4,
 "nbformat_minor": 2
}
