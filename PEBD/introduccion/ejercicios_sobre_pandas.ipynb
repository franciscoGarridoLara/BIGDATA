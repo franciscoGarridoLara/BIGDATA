{
 "cells": [
  {
   "cell_type": "code",
   "execution_count": 28,
   "metadata": {},
   "outputs": [
    {
     "name": "stdout",
     "output_type": "stream",
     "text": [
      "Movies: 6131, Shows: 2676\n",
      "8807\n",
      "143.64703963464362\n"
     ]
    }
   ],
   "source": [
    "#A partir del fichero netflix_titles.csv\n",
    "#Calcula el número de filas en el fichero, el de series y el de películas.\n",
    "\n",
    "import pandas as pd\n",
    "import numpy as np\n",
    "\n",
    "\n",
    "datos = pd.read_csv(\"./data/netflix_titles.csv\", sep=\",\")\n",
    "\n",
    "n_movies = (datos.type == \"Movie\").sum()\n",
    "n_shows = (datos.type == \"TV Show\").sum()\n",
    "\n",
    "print(f\"Movies: {n_movies}, Shows: {n_shows}\")\n",
    "\n",
    "\n",
    "#Calcula el porcentaje de series y películas sobre el total de títulos.\n",
    "\n",
    "datos.head()\n",
    "n_titles = len(datos.title.unique())\n",
    "\n",
    "print(n_movies + n_shows)\n",
    "print((n_titles * 100) / n_movies)\n",
    "\n",
    "\n",
    "\n",
    "\n"
   ]
  },
  {
   "cell_type": "code",
   "execution_count": null,
   "metadata": {},
   "outputs": [],
   "source": [
    "\n",
    "\n"
   ]
  }
 ],
 "metadata": {
  "kernelspec": {
   "display_name": "base",
   "language": "python",
   "name": "python3"
  },
  "language_info": {
   "codemirror_mode": {
    "name": "ipython",
    "version": 3
   },
   "file_extension": ".py",
   "mimetype": "text/x-python",
   "name": "python",
   "nbconvert_exporter": "python",
   "pygments_lexer": "ipython3",
   "version": "3.11.5"
  }
 },
 "nbformat": 4,
 "nbformat_minor": 2
}
