{
 "cells": [
  {
   "cell_type": "code",
   "execution_count": 3,
   "metadata": {
    "id": "dtlARq4mAQTL"
   },
   "outputs": [],
   "source": [
    "import pandas as pd\n",
    "import matplotlib.pyplot as plt\n"
   ]
  },
  {
   "cell_type": "markdown",
   "metadata": {
    "id": "7lEO_BtkACDA"
   },
   "source": [
    "Vamos a ver cómo poner dos series de datos en la misma gráfica. Primero creamos un DataFrame con dos columnas, las coordenadas x e y de algunos puntos de la recta y = 2 * x + 3"
   ]
  },
  {
   "cell_type": "code",
   "execution_count": null,
   "metadata": {
    "colab": {
     "base_uri": "https://localhost:8080/",
     "height": 206
    },
    "id": "Wegq9CQB_bSV",
    "outputId": "5e9a8bfd-10d4-4575-cd06-f30242895234"
   },
   "outputs": [],
   "source": [
    "recta_x = pd.Series([x for x in range(10)])\n",
    "recta_y = recta_x * 2 + 3\n",
    "recta = pd.concat([recta_x, recta_y], axis = 1)\n",
    "recta.columns = ['eje_x', 'eje_y']\n",
    "recta.head()"
   ]
  },
  {
   "cell_type": "markdown",
   "metadata": {
    "id": "6XYY-RGFBaxB"
   },
   "source": [
    "\n",
    "Otro para representar y = x²\n",
    "\n"
   ]
  },
  {
   "cell_type": "code",
   "execution_count": null,
   "metadata": {
    "colab": {
     "base_uri": "https://localhost:8080/",
     "height": 206
    },
    "id": "JtfZErpABR-u",
    "outputId": "558f1b28-530b-4a7d-94b2-3ceb2d7c6ecf"
   },
   "outputs": [],
   "source": [
    "para_x = pd.Series([x for x in range(-5, 6)])\n",
    "para_y = para_x.pow(2)\n",
    "para = pd.concat([para_x, para_y], axis = 1)\n",
    "para.columns = ['eje_x', 'eje_y']\n",
    "para.head()"
   ]
  },
  {
   "cell_type": "markdown",
   "metadata": {
    "id": "lg7R-o3NBsrJ"
   },
   "source": [
    "Ahora creamos la figura. Para representar más de una serie en un solo Axes, simplemente  hay que llamar varias a la función correspondiente, en este caso plot"
   ]
  },
  {
   "cell_type": "code",
   "execution_count": null,
   "metadata": {
    "colab": {
     "base_uri": "https://localhost:8080/",
     "height": 430
    },
    "id": "MeU5ccmXBEKu",
    "outputId": "9156a8b6-dd5f-47fd-ce38-10159b94dcab"
   },
   "outputs": [],
   "source": [
    "fig, ax = plt.subplots()\n",
    "ax.plot('eje_x', 'eje_y', data = recta, label = \"Recta\")\n",
    "ax.plot('eje_x', 'eje_y', data = para, label = \"Parábola\")\n",
    "ax.legend()\n",
    "plt.show()"
   ]
  },
  {
   "cell_type": "markdown",
   "metadata": {
    "id": "YlfLWew6F3je"
   },
   "source": [
    "Para centrar los ejes como se suele hacer en matemáticas"
   ]
  },
  {
   "cell_type": "code",
   "execution_count": null,
   "metadata": {
    "colab": {
     "base_uri": "https://localhost:8080/",
     "height": 413
    },
    "id": "18NvfM_yF2u9",
    "outputId": "bdba67b5-4f61-4f7c-f77c-1accd62e56ea"
   },
   "outputs": [],
   "source": [
    "fig, ax = plt.subplots()\n",
    "ax.plot('eje_x', 'eje_y', data = recta, label = \"Recta\")\n",
    "ax.plot('eje_x', 'eje_y', data = para, label = \"Parábola\")\n",
    "# centrar los ejes\n",
    "ax.spines['left'].set_position(('data', 0.0))\n",
    "ax.spines['bottom'].set_position(('data', 0.0))\n",
    "ax.spines['right'].set_color('none')\n",
    "ax.spines['top'].set_color('none')\n",
    "\n",
    "ax.legend()\n",
    "plt.show()"
   ]
  },
  {
   "cell_type": "markdown",
   "metadata": {
    "id": "ecMnB9rWGI6T"
   },
   "source": [
    "Ahora veamos cómo hacer una figura con dos subplots, uno encima del otro. Es decir, 2 filas y 1 columna."
   ]
  },
  {
   "cell_type": "code",
   "execution_count": null,
   "metadata": {
    "colab": {
     "base_uri": "https://localhost:8080/",
     "height": 478
    },
    "id": "y89etS_4B-vL",
    "outputId": "d62fee50-f86b-43c4-b984-e336e5bb8916"
   },
   "outputs": [],
   "source": [
    "# los argumentos indican que habrá dos filas y una columna de subplots\n",
    "fig, ax = plt.subplots(nrows = 2, ncols = 1)\n",
    "fig.suptitle(\"Figure con dos subplots\")\n",
    "ax[0].plot('eje_x', 'eje_y', data = recta, label = \"Recta\")\n",
    "ax[1].plot('eje_x', 'eje_y', data = para, label = \"Parábola\")\n",
    "ax[0].legend()\n",
    "ax[1].legend()\n",
    "plt.show()\n"
   ]
  },
  {
   "cell_type": "markdown",
   "metadata": {
    "id": "gWuwo-ziIP6P"
   },
   "source": [
    "Lo mismo pero con dos filas y dos columnas. Hay que usar dos índices para elegir el Axes."
   ]
  },
  {
   "cell_type": "code",
   "execution_count": null,
   "metadata": {
    "colab": {
     "base_uri": "https://localhost:8080/",
     "height": 478
    },
    "id": "sj4VX5dOHHhR",
    "outputId": "a2d1025f-e8d0-49e1-c976-68d12657bf24"
   },
   "outputs": [],
   "source": [
    "# los argumentos indican que habrá dos filas y una columna de subplots\n",
    "fig, ax = plt.subplots(nrows = 2, ncols = 2)\n",
    "fig.suptitle(\"Figure con cuatro subplots\")\n",
    "ax[0, 0].plot('eje_x', 'eje_y', data = recta, label = \"Recta\")\n",
    "ax[1, 0].plot('eje_x', 'eje_y', data = para, label = \"Parábola\")\n",
    "ax[0, 1].plot('eje_x', 'eje_y', data = recta, label = \"Recta2\")\n",
    "ax[1, 1].plot('eje_x', 'eje_y', data = para, label = \"Parábola2\")\n",
    "ax[0, 0].legend()\n",
    "ax[0, 1].legend()\n",
    "ax[1, 0].legend()\n",
    "ax[1, 1].legend()\n",
    "plt.show()"
   ]
  },
  {
   "cell_type": "code",
   "execution_count": null,
   "metadata": {},
   "outputs": [],
   "source": []
  }
 ],
 "metadata": {
  "colab": {
   "provenance": []
  },
  "kernelspec": {
   "display_name": "Python 3 (ipykernel)",
   "language": "python",
   "name": "python3"
  },
  "language_info": {
   "codemirror_mode": {
    "name": "ipython",
    "version": 3
   },
   "file_extension": ".py",
   "mimetype": "text/x-python",
   "name": "python",
   "nbconvert_exporter": "python",
   "pygments_lexer": "ipython3",
   "version": "3.11.5"
  }
 },
 "nbformat": 4,
 "nbformat_minor": 4
}
