{
 "cells": [
  {
   "cell_type": "code",
   "execution_count": 2,
   "metadata": {
    "id": "dtlARq4mAQTL"
   },
   "outputs": [],
   "source": [
    "import pandas as pd\n",
    "import matplotlib.pyplot as plt\n"
   ]
  },
  {
   "attachments": {},
   "cell_type": "markdown",
   "metadata": {
    "id": "7lEO_BtkACDA"
   },
   "source": [
    "Vamos a ver cómo poner dos series de datos en la misma gráfica. Primero creamos un DataFrame con dos columnas, las coordenadas x e y de algunos puntos de la recta y = 2 * x + 3"
   ]
  },
  {
   "cell_type": "code",
   "execution_count": 3,
   "metadata": {
    "colab": {
     "base_uri": "https://localhost:8080/",
     "height": 206
    },
    "id": "Wegq9CQB_bSV",
    "outputId": "5e9a8bfd-10d4-4575-cd06-f30242895234"
   },
   "outputs": [
    {
     "data": {
      "text/html": [
       "<div>\n",
       "<style scoped>\n",
       "    .dataframe tbody tr th:only-of-type {\n",
       "        vertical-align: middle;\n",
       "    }\n",
       "\n",
       "    .dataframe tbody tr th {\n",
       "        vertical-align: top;\n",
       "    }\n",
       "\n",
       "    .dataframe thead th {\n",
       "        text-align: right;\n",
       "    }\n",
       "</style>\n",
       "<table border=\"1\" class=\"dataframe\">\n",
       "  <thead>\n",
       "    <tr style=\"text-align: right;\">\n",
       "      <th></th>\n",
       "      <th>eje_x</th>\n",
       "      <th>eje_y</th>\n",
       "    </tr>\n",
       "  </thead>\n",
       "  <tbody>\n",
       "    <tr>\n",
       "      <th>0</th>\n",
       "      <td>0</td>\n",
       "      <td>3</td>\n",
       "    </tr>\n",
       "    <tr>\n",
       "      <th>1</th>\n",
       "      <td>1</td>\n",
       "      <td>5</td>\n",
       "    </tr>\n",
       "    <tr>\n",
       "      <th>2</th>\n",
       "      <td>2</td>\n",
       "      <td>7</td>\n",
       "    </tr>\n",
       "    <tr>\n",
       "      <th>3</th>\n",
       "      <td>3</td>\n",
       "      <td>9</td>\n",
       "    </tr>\n",
       "    <tr>\n",
       "      <th>4</th>\n",
       "      <td>4</td>\n",
       "      <td>11</td>\n",
       "    </tr>\n",
       "  </tbody>\n",
       "</table>\n",
       "</div>"
      ],
      "text/plain": [
       "   eje_x  eje_y\n",
       "0      0      3\n",
       "1      1      5\n",
       "2      2      7\n",
       "3      3      9\n",
       "4      4     11"
      ]
     },
     "execution_count": 3,
     "metadata": {},
     "output_type": "execute_result"
    }
   ],
   "source": [
    "recta_x = pd.Series([x for x in range(10)])\n",
    "recta_y = recta_x * 2 + 3\n",
    "recta = pd.concat([recta_x, recta_y], axis = 1)\n",
    "recta.columns = ['eje_x', 'eje_y']\n",
    "recta.head()"
   ]
  },
  {
   "attachments": {},
   "cell_type": "markdown",
   "metadata": {
    "id": "6XYY-RGFBaxB"
   },
   "source": [
    "\n",
    "Otro para representar y = x²\n",
    "\n"
   ]
  },
  {
   "cell_type": "code",
   "execution_count": 4,
   "metadata": {
    "colab": {
     "base_uri": "https://localhost:8080/",
     "height": 206
    },
    "id": "JtfZErpABR-u",
    "outputId": "558f1b28-530b-4a7d-94b2-3ceb2d7c6ecf"
   },
   "outputs": [
    {
     "data": {
      "text/html": [
       "<div>\n",
       "<style scoped>\n",
       "    .dataframe tbody tr th:only-of-type {\n",
       "        vertical-align: middle;\n",
       "    }\n",
       "\n",
       "    .dataframe tbody tr th {\n",
       "        vertical-align: top;\n",
       "    }\n",
       "\n",
       "    .dataframe thead th {\n",
       "        text-align: right;\n",
       "    }\n",
       "</style>\n",
       "<table border=\"1\" class=\"dataframe\">\n",
       "  <thead>\n",
       "    <tr style=\"text-align: right;\">\n",
       "      <th></th>\n",
       "      <th>eje_x</th>\n",
       "      <th>eje_y</th>\n",
       "    </tr>\n",
       "  </thead>\n",
       "  <tbody>\n",
       "    <tr>\n",
       "      <th>0</th>\n",
       "      <td>-5</td>\n",
       "      <td>25</td>\n",
       "    </tr>\n",
       "    <tr>\n",
       "      <th>1</th>\n",
       "      <td>-4</td>\n",
       "      <td>16</td>\n",
       "    </tr>\n",
       "    <tr>\n",
       "      <th>2</th>\n",
       "      <td>-3</td>\n",
       "      <td>9</td>\n",
       "    </tr>\n",
       "    <tr>\n",
       "      <th>3</th>\n",
       "      <td>-2</td>\n",
       "      <td>4</td>\n",
       "    </tr>\n",
       "    <tr>\n",
       "      <th>4</th>\n",
       "      <td>-1</td>\n",
       "      <td>1</td>\n",
       "    </tr>\n",
       "  </tbody>\n",
       "</table>\n",
       "</div>"
      ],
      "text/plain": [
       "   eje_x  eje_y\n",
       "0     -5     25\n",
       "1     -4     16\n",
       "2     -3      9\n",
       "3     -2      4\n",
       "4     -1      1"
      ]
     },
     "execution_count": 4,
     "metadata": {},
     "output_type": "execute_result"
    }
   ],
   "source": [
    "para_x = pd.Series([x for x in range(-5, 6)])\n",
    "para_y = para_x.pow(2)\n",
    "para = pd.concat([para_x, para_y], axis = 1)\n",
    "para.columns = ['eje_x', 'eje_y']\n",
    "para.head()"
   ]
  },
  {
   "attachments": {},
   "cell_type": "markdown",
   "metadata": {
    "id": "lg7R-o3NBsrJ"
   },
   "source": [
    "Ahora creamos la figura. Para representar más de una serie en un solo Axes, simplemente  hay que llamar varias a la función correspondiente, en este caso plot"
   ]
  },
  {
   "cell_type": "code",
   "execution_count": 5,
   "metadata": {
    "colab": {
     "base_uri": "https://localhost:8080/",
     "height": 430
    },
    "id": "MeU5ccmXBEKu",
    "outputId": "9156a8b6-dd5f-47fd-ce38-10159b94dcab"
   },
   "outputs": [
    {
     "ename": "SyntaxError",
     "evalue": "unterminated string literal (detected at line 3) (2150080561.py, line 3)",
     "output_type": "error",
     "traceback": [
      "\u001b[0;36m  Cell \u001b[0;32mIn[5], line 3\u001b[0;36m\u001b[0m\n\u001b[0;31m    ax.plot('eje_x', 'eje_y', data = para, label = \"ax[0].plot(\"Agemos\", \"M\", data=datos[datos.Sex==1])\u001b[0m\n\u001b[0m                                                                           ^\u001b[0m\n\u001b[0;31mSyntaxError\u001b[0m\u001b[0;31m:\u001b[0m unterminated string literal (detected at line 3)\n"
     ]
    }
   ],
   "source": [
    "# fig, ax = plt.subplots()\n",
    "# ax.plot('eje_x', 'eje_y', data = recta, label = \"Recta\")\n",
    "# ax.plot('eje_x', 'eje_y', data = para, label = ax[0].plot(\"Agemos\", \"M\", data=datos[datos.Sex==1])\n",
    "# ax[0].plot(\"Agemos\", \"P25\", data=datos[datos.Sex==1])\n",
    "# ax[0].plot(\"Agemos\", \"P75\", data=datos[datos.Sex==1])Parábola\")\n",
    "# ax.legend()\n",
    "# plt.show()"
   ]
  },
  {
   "attachments": {},
   "cell_type": "markdown",
   "metadata": {
    "id": "YlfLWew6F3je"
   },
   "source": [
    "Para centrar los ejes como se suele hacer en matemáticas"
   ]
  },
  {
   "cell_type": "code",
   "execution_count": null,
   "metadata": {
    "colab": {
     "base_uri": "https://localhost:8080/",
     "height": 413
    },
    "id": "18NvfM_yF2u9",
    "outputId": "bdba67b5-4f61-4f7c-f77c-1accd62e56ea"
   },
   "outputs": [],
   "source": [
    "fig, ax = plt.subplots()\n",
    "ax.plot('eje_x', 'eje_y', data = recta, label = \"Recta\")\n",
    "ax.plot('eje_x', 'eje_y', data = para, label = \"Parábola\")\n",
    "# centrar los ejes\n",
    "ax.spines['left'].set_position(('data', 0.0))\n",
    "ax.spines['bottom'].set_position(('data', 0.0))\n",
    "ax.spines['right'].set_color('none')\n",
    "ax.spines['top'].set_color('none')\n",
    "\n",
    "ax.legend()\n",
    "plt.show()"
   ]
  },
  {
   "attachments": {},
   "cell_type": "markdown",
   "metadata": {
    "id": "ecMnB9rWGI6T"
   },
   "source": [
    "Ahora veamos cómo hacer una figura con dos subplots, uno encima del otro. Es decir, 2 filas y 1 columna."
   ]
  },
  {
   "cell_type": "code",
   "execution_count": null,
   "metadata": {
    "colab": {
     "base_uri": "https://localhost:8080/",
     "height": 478
    },
    "id": "y89etS_4B-vL",
    "outputId": "d62fee50-f86b-43c4-b984-e336e5bb8916"
   },
   "outputs": [
    {
     "ename": "NameError",
     "evalue": "name 'plt' is not defined",
     "output_type": "error",
     "traceback": [
      "\u001b[0;31m---------------------------------------------------------------------------\u001b[0m",
      "\u001b[0;31mNameError\u001b[0m                                 Traceback (most recent call last)",
      "Cell \u001b[0;32mIn[1], line 2\u001b[0m\n\u001b[1;32m      1\u001b[0m \u001b[39m# los argumentos indican que habrá dos filas y una columna de subplots\u001b[39;00m\n\u001b[0;32m----> 2\u001b[0m fig, ax \u001b[39m=\u001b[39m plt\u001b[39m.\u001b[39msubplots(nrows \u001b[39m=\u001b[39m \u001b[39m2\u001b[39m, ncols \u001b[39m=\u001b[39m \u001b[39m1\u001b[39m)\n\u001b[1;32m      3\u001b[0m fig\u001b[39m.\u001b[39msuptitle(\u001b[39m\"\u001b[39m\u001b[39mFigure con dos subplots\u001b[39m\u001b[39m\"\u001b[39m)\n\u001b[1;32m      4\u001b[0m ax[\u001b[39m0\u001b[39m]\u001b[39m.\u001b[39mplot(\u001b[39m'\u001b[39m\u001b[39meje_x\u001b[39m\u001b[39m'\u001b[39m, \u001b[39m'\u001b[39m\u001b[39meje_y\u001b[39m\u001b[39m'\u001b[39m, data \u001b[39m=\u001b[39m recta, label \u001b[39m=\u001b[39m \u001b[39m\"\u001b[39m\u001b[39mRecta\u001b[39m\u001b[39m\"\u001b[39m)\n",
      "\u001b[0;31mNameError\u001b[0m: name 'plt' is not defined"
     ]
    }
   ],
   "source": [
    "# los argumentos indican que habrá dos filas y una columna de subplots\n",
    "fig, ax = plt.subplots(nrows = 2, ncols = 1)\n",
    "fig.suptitle(\"Figure con dos subplots\")\n",
    "ax[0].plot('eje_x', 'eje_y', data = recta, label = \"Recta\")\n",
    "ax[1].plot('eje_x', 'eje_y', data = para, label = \"Parábola\")\n",
    "ax[0].legend()\n",
    "ax[1].legend()\n",
    "plt.show()\n"
   ]
  },
  {
   "attachments": {},
   "cell_type": "markdown",
   "metadata": {
    "id": "gWuwo-ziIP6P"
   },
   "source": [
    "Lo mismo pero con dos filas y dos columnas. Hay que usar dos índices para elegir el Axes."
   ]
  },
  {
   "cell_type": "code",
   "execution_count": null,
   "metadata": {
    "colab": {
     "base_uri": "https://localhost:8080/",
     "height": 478
    },
    "id": "sj4VX5dOHHhR",
    "outputId": "a2d1025f-e8d0-49e1-c976-68d12657bf24"
   },
   "outputs": [],
   "source": [
    "# los argumentos indican que habrá dos filas y una columna de subplots\n",
    "fig, ax = plt.subplots(nrows = 2, ncols = 2)\n",
    "fig.suptitle(\"Figure con cuatro subplots\")\n",
    "ax[0, 0].plot('eje_x', 'eje_y', data = recta, label = \"Recta\")\n",
    "ax[1, 0].plot('eje_x', 'eje_y', data = para, label = \"Parábola\")\n",
    "ax[0, 1].plot('eje_x', 'eje_y', data = recta, label = \"Recta2\")\n",
    "ax[1, 1].plot('eje_x', 'eje_y', data = para, label = \"Parábola2\")\n",
    "ax[0, 0].legend()\n",
    "ax[0, 1].legend()\n",
    "ax[1, 0].legend()\n",
    "ax[1, 1].legend()\n",
    "plt.show()"
   ]
  },
  {
   "cell_type": "code",
   "execution_count": null,
   "metadata": {},
   "outputs": [],
   "source": []
  }
 ],
 "metadata": {
  "colab": {
   "provenance": []
  },
  "kernelspec": {
   "display_name": "Python 3 (ipykernel)",
   "language": "python",
   "name": "python3"
  },
  "language_info": {
   "codemirror_mode": {
    "name": "ipython",
    "version": 3
   },
   "file_extension": ".py",
   "mimetype": "text/x-python",
   "name": "python",
   "nbconvert_exporter": "python",
   "pygments_lexer": "ipython3",
   "version": "3.11.5"
  }
 },
 "nbformat": 4,
 "nbformat_minor": 4
}
