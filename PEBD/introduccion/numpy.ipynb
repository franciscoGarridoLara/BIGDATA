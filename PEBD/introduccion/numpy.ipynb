{
 "cells": [
  {
   "cell_type": "code",
   "execution_count": 22,
   "metadata": {},
   "outputs": [
    {
     "name": "stdout",
     "output_type": "stream",
     "text": [
      "1\n",
      "(4,)\n",
      "4\n",
      "float64\n",
      "8\n",
      "[[2 4 8]\n",
      " [2 4 8]]\n",
      "[[ 1  4 16]\n",
      " [ 1  4 16]]\n",
      "16 elementos: \n",
      " [ 0  1  2  3  4  5  6  7  8  9 10 11 12 13 14 15]\n",
      "[10  1  2  3  4  5  6  7  8  9 10 11 12 13 14 15]\n"
     ]
    }
   ],
   "source": [
    "import numpy as np\n",
    "\n",
    "#Creación de arrays numpy\n",
    "\n",
    "a = np.array([1,2,3.4,5])\n",
    "b = np.array([[1,2,3.5],[4,3,23]])\n",
    "\n",
    "#Número de dimensiones\n",
    "print(a.ndim)\n",
    "\n",
    "#Forma\n",
    "print(a.shape)\n",
    "#Tamaño\n",
    "print(a.size)\n",
    "#Tipo\n",
    "print(a.dtype)\n",
    "#Tamaño\n",
    "print(a.itemsize)\n",
    "\n",
    "\n",
    "np.ones(2,dtype=None, order='C', like=None)\n",
    "\n",
    "np.zeros(2,dtype=None, order='C', like=None)\n",
    "\n",
    "#empty, arrange, linspace -> otros ejemplos\n",
    "\n",
    "np.ones((2,8))\n",
    "\n",
    "\n",
    "np.arange(2, 20, 3)\n",
    "\n",
    "m1 = np.array([[1,2,4],[1,2,4]])\n",
    "m2 = np.array([[1,2,4],[1,2,4]])\n",
    "\n",
    "m3 = m1 + m2\n",
    "\n",
    "print(m3)\n",
    "\n",
    "print(m1*m2)\n",
    "\n",
    "#Producto de matrices\n",
    "# m1 @ m3\n",
    "\n",
    "#m1 > 3 -> Devuelve arrays de booleanos\n",
    "\n",
    "np.sqrt(1)\n",
    "\n",
    "#Buscar max por eje\n",
    "m1.max(axis=0)\n",
    "\n",
    "#Buscar min por eje\n",
    "m1.min(axis=1)\n",
    "\n",
    "#Cambiar la forma de un array\n",
    "m4 = np.arange(16)\n",
    "\n",
    "print(\"16 elementos: \\n\", m4)\n",
    "m4[0] = 10\n",
    "\n",
    "print(m4)"
   ]
  },
  {
   "cell_type": "code",
   "execution_count": null,
   "metadata": {},
   "outputs": [],
   "source": []
  }
 ],
 "metadata": {
  "kernelspec": {
   "display_name": "base",
   "language": "python",
   "name": "python3"
  },
  "language_info": {
   "codemirror_mode": {
    "name": "ipython",
    "version": 3
   },
   "file_extension": ".py",
   "mimetype": "text/x-python",
   "name": "python",
   "nbconvert_exporter": "python",
   "pygments_lexer": "ipython3",
   "version": "3.11.5"
  },
  "orig_nbformat": 4
 },
 "nbformat": 4,
 "nbformat_minor": 2
}
