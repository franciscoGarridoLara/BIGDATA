{
 "cells": [
  {
   "cell_type": "code",
   "execution_count": 26,
   "metadata": {},
   "outputs": [
    {
     "name": "stdout",
     "output_type": "stream",
     "text": [
      "54293\n"
     ]
    },
    {
     "data": {
      "text/plain": [
       "0    2022\n",
       "1    2022\n",
       "2    2022\n",
       "3    2022\n",
       "4    2022\n",
       "dtype: int64"
      ]
     },
     "execution_count": 26,
     "metadata": {},
     "output_type": "execute_result"
    }
   ],
   "source": [
    "##Bomberos https://datos.madrid.es/portal/site/egob/menuitem.c05c1f754a33a9fbe4b2e4b284f1a5a0/?vgnextoid=fa677996afc6f510VgnVCM1000001d4a900aRCRD&vgnextchannel=374512b9ace9f310VgnVCM100000171f5a0aRCRD&vgnextfmt=default\n",
    "\n",
    "import pandas as pd\n",
    "\n",
    "#Cargamos los datos de 2022 y 2023 después los concatenamos en un dataframe.\n",
    "\n",
    "bomberos_2022 = pd.read_csv('./data/ActuacionesBomberos_2022.csv', sep=\";\")\n",
    "bomberos_2023 = pd.read_csv('./data/ActuacionesBomberos_2023.csv', sep=\";\")\n",
    "\n",
    "bomberos_2022.head()\n",
    "bomberos_2023.head()\n",
    "\n",
    "#Por defecto el axis es 0.\n",
    "bomberos_2223 = pd.concat([bomberos_2022, bomberos_2023], axis=0)\n",
    "\n",
    "bomberos_2223.head(100)\n",
    "\n",
    "\n",
    "# bomberos_2223[bomberos_2223[\"AÑO\"] == 2023]\n",
    "\n",
    "#Remplazar los meses por el número del mes. Para un Dataframe se tiene que indicar la columna sobre la que se quiere remplazar, en un Series no hace falta.\n",
    "\n",
    "# bomberos_2223.replace({'MES': {'enero':1, 'febrero':2, 'marzo':3, 'abril':4, 'mayo':5, 'junio':6, 'julio':7, 'agosto':8, 'septiembre':9, 'octubre':10, 'noviembre':11, 'diciembre':12}})\n",
    "\n",
    "mes_numero = bomberos_2223.MES.replace({'enero':1, 'febrero':2, 'marzo':3, 'abril':4, 'mayo':5, 'junio':6, 'julio':7, 'agosto':8, 'septiembre':9, 'octubre':10, 'noviembre':11, 'diciembre':12}, inplace=True)\n",
    "\n",
    "bomberos_2223[\"mesNumero\"] = mes_numero\n",
    "\n",
    "bomberos_2223.head()\n",
    "\n",
    "#Calcular la suma de salidas en cada año, por cada distrito, manteniendo los diferentes tipos de salida.\n",
    "\n",
    "\n",
    "totales = bomberos_2223[\"TOTAL\"].sum()\n",
    "\n",
    "\n",
    "print(totales)\n",
    "\n",
    "bomberos_2223.groupby([\"AÑO\", \"TOTAL\"]).sum()\n",
    "\n",
    "\n",
    "bomberos_ano_total = pd.concat([bomberos_2223.AÑO, bomberos_2223.TOTAL], axis=0)\n",
    "\n",
    "bomberos_ano_total.head()\n",
    "\n",
    "\n",
    "#Ver cuantos distritos hay\n",
    "\n",
    "\n",
    "#Para 2022, LATINA tendremos todas las columnas: fuegos, daños en const...\n",
    "\n",
    "\n",
    "\n",
    "#Para 2022, RETIRO tendremos todas las columnas: fuegos, daños en const...\n",
    "\n",
    "\n"
   ]
  },
  {
   "cell_type": "code",
   "execution_count": null,
   "metadata": {},
   "outputs": [],
   "source": []
  }
 ],
 "metadata": {
  "kernelspec": {
   "display_name": "base",
   "language": "python",
   "name": "python3"
  },
  "language_info": {
   "codemirror_mode": {
    "name": "ipython",
    "version": 3
   },
   "file_extension": ".py",
   "mimetype": "text/x-python",
   "name": "python",
   "nbconvert_exporter": "python",
   "pygments_lexer": "ipython3",
   "version": "3.11.5"
  },
  "orig_nbformat": 4
 },
 "nbformat": 4,
 "nbformat_minor": 2
}
