{
 "cells": [
  {
   "cell_type": "code",
   "execution_count": 2,
   "metadata": {},
   "outputs": [
    {
     "name": "stdout",
     "output_type": "stream",
     "text": [
      "Movies: 6131, Shows: 2676\n",
      "Porcentaje movies: 69.61507891449983, Porcentaje shows: 30.38492108550017\n",
      "Número de directores diferentes: 4529\n"
     ]
    }
   ],
   "source": [
    "#A partir del fichero netflix_titles.csv\n",
    "#Calcula el número de filas en el fichero, el de series y el de películas.\n",
    "\n",
    "import pandas as pd\n",
    "import numpy as np\n",
    "\n",
    "\n",
    "datos = pd.read_csv(\"./data/netflix_titles.csv\", sep=\",\")\n",
    "\n",
    "n_movies = (datos.type == \"Movie\").sum()\n",
    "n_shows = (datos.type == \"TV Show\").sum()\n",
    "\n",
    "print(f\"Movies: {n_movies}, Shows: {n_shows}\")\n",
    "\n",
    "\n",
    "#Calcula el porcentaje de series y películas sobre el total de títulos.\n",
    "\n",
    "\n",
    "n_titles = len(datos.title.unique())\n",
    "\n",
    "porcentaje_movies = (n_movies / n_titles) * 100\n",
    "porcentaje_shows = (n_shows / n_titles) * 100\n",
    "\n",
    "print(f\"Porcentaje movies: {porcentaje_movies}, Porcentaje shows: {porcentaje_shows}\")\n",
    "\n",
    "\n",
    "#Cuenta el número de directores diferentes que aparecen en el fichero.\n",
    "\n",
    "n_directores = len(datos.director.unique())\n",
    "print(f\"Número de directores diferentes: {n_directores}\")\n",
    "\n",
    "#Añade una nueva columna, \"peliLarga\", con valor 1 para las películas de más de 120 minutos y 0 en otro caso.#ESTO ESTÁ MAL YA QUE LA SERIE NO CORRESPONDE CON EL INDEX.\n",
    "peliLarga = pd.Series([1 if x > 120 else 0 for x in datos.duration.map(lambda x: float(str(x).split(\" \")[0]))])\n",
    "\n",
    "datos[\"peliLarga\"] = pd.Series(peliLarga)\n",
    "\n",
    "#Crea un nuevo fichero csv, solo con películas, ordenadas por año de aparición, la más reciente primero.(\n",
    "#pandas.DataFrame.to_csv y https://pandas.pydata.org/pandas-docs/stable/reference/api/pandas.DataFrame.sort_values.html)\n",
    "\n",
    "datos_order_by_relase = datos.sort_values(by=['release_year'], ascending=False)\n",
    "\n",
    "datos_order_by_relase.head(100)\n",
    "\n",
    "#Crea un nuevo dataframe solo con las películas listadas como documentales lanzadas (\"release_year\") en 2020.\n",
    "#Se utilizan dos condiciones para filtrar el dataframe.\n",
    "\n",
    "datos_relase_2020 = datos[(datos.release_year == 2020) & (datos.listed_in.str.find(\"Documentaries\") != -1)]\n",
    "\n",
    "datos_relase_2020.head()\n",
    "\n",
    "\n",
    "#Elimina de este dataframe la columna la columna \"cast\". https://pandas.pydata.org/pandas-docs/stable/reference/api/pandas.DataFrame.drop.html\n",
    "\n",
    "datos_without_cast = datos.drop(columns=[\"cast\"])\n",
    "\n",
    "datos_without_cast.head()\n",
    "\n",
    "\n",
    "#Cambia los nombres de todas las columnas a una versión en español. https://pandas.pydata.org/pandas-docs/stable/reference/api/pandas.DataFrame.rename.html\n",
    "#inplace=True se utiliza para modificar la variable / DataFrame al que se este aplicando el rename.\n",
    "\n",
    "datos.rename(columns={\"show_id\":\"Id_show\",\"type\":\"tipo\",\"title\":\"titulo\",\"country\":\"pais\",\"date_added\":\"fecha_añadida\",\"release_year\":\"ano_lanzado\"}, inplace=True)\n",
    "\n",
    "\n",
    "\n",
    "\n",
    "#datos.head()\n"
   ]
  },
  {
   "cell_type": "code",
   "execution_count": null,
   "metadata": {},
   "outputs": [],
   "source": [
    "\n",
    "\n"
   ]
  }
 ],
 "metadata": {
  "kernelspec": {
   "display_name": "base",
   "language": "python",
   "name": "python3"
  },
  "language_info": {
   "codemirror_mode": {
    "name": "ipython",
    "version": 3
   },
   "file_extension": ".py",
   "mimetype": "text/x-python",
   "name": "python",
   "nbconvert_exporter": "python",
   "pygments_lexer": "ipython3",
   "version": "3.11.5"
  }
 },
 "nbformat": 4,
 "nbformat_minor": 2
}
