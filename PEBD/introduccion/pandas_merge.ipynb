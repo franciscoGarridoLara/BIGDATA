{
 "cells": [
  {
   "cell_type": "code",
   "execution_count": 12,
   "metadata": {},
   "outputs": [
    {
     "data": {
      "text/html": [
       "<div>\n",
       "<style scoped>\n",
       "    .dataframe tbody tr th:only-of-type {\n",
       "        vertical-align: middle;\n",
       "    }\n",
       "\n",
       "    .dataframe tbody tr th {\n",
       "        vertical-align: top;\n",
       "    }\n",
       "\n",
       "    .dataframe thead th {\n",
       "        text-align: right;\n",
       "    }\n",
       "</style>\n",
       "<table border=\"1\" class=\"dataframe\">\n",
       "  <thead>\n",
       "    <tr style=\"text-align: right;\">\n",
       "      <th></th>\n",
       "      <th>Marca</th>\n",
       "      <th>numEmple</th>\n",
       "    </tr>\n",
       "  </thead>\n",
       "  <tbody>\n",
       "    <tr>\n",
       "      <th>0</th>\n",
       "      <td>Toyota</td>\n",
       "      <td>100</td>\n",
       "    </tr>\n",
       "    <tr>\n",
       "      <th>1</th>\n",
       "      <td>Subaru</td>\n",
       "      <td>200</td>\n",
       "    </tr>\n",
       "    <tr>\n",
       "      <th>2</th>\n",
       "      <td>Yamaha</td>\n",
       "      <td>300</td>\n",
       "    </tr>\n",
       "    <tr>\n",
       "      <th>3</th>\n",
       "      <td>Citroen</td>\n",
       "      <td>400</td>\n",
       "    </tr>\n",
       "  </tbody>\n",
       "</table>\n",
       "</div>"
      ],
      "text/plain": [
       "     Marca  numEmple\n",
       "0   Toyota       100\n",
       "1   Subaru       200\n",
       "2   Yamaha       300\n",
       "3  Citroen       400"
      ]
     },
     "execution_count": 12,
     "metadata": {},
     "output_type": "execute_result"
    }
   ],
   "source": [
    "#https://pandas.pydata.org/docs/reference/api/pandas.concat.html\n",
    "# https://pandas.pydata.org/pandas-docs/stable/reference/api/pandas.DataFrame.merge.html\n",
    "\n",
    "import pandas as pd\n",
    "\n",
    "marcas = [\"Toyota\",\"Subaru\",\"Yamaha\",\"Citroen\"]\n",
    "paises = [\"Colombia\",\"Francia\",\"China\",\"España\"]\n",
    "numEmple = [100,200,300,400]\n",
    "\n",
    "marcasDf = pd.DataFrame(marcas, columns=[\"Marca\"])\n",
    "numEmpleDf = pd.DataFrame(numEmple, columns=[\"numEmple\"])\n",
    "paisesDf = pd.DataFrame(paises, columns=[\"paises\"])\n",
    "\n",
    "marcosConEmple = pd.concat([marcasDf, numEmpleDf], axis=1)\n",
    "\n",
    "marcosConEmple.head()\n",
    "\n",
    "\n",
    "# todosDf = pd.DataFrame([marcas,paises,numEmple], columns=[\"marca\", \"paises\", \"empleados\"])\n"
   ]
  },
  {
   "cell_type": "code",
   "execution_count": null,
   "metadata": {},
   "outputs": [],
   "source": []
  }
 ],
 "metadata": {
  "kernelspec": {
   "display_name": "Python 3",
   "language": "python",
   "name": "python3"
  },
  "language_info": {
   "codemirror_mode": {
    "name": "ipython",
    "version": 3
   },
   "file_extension": ".py",
   "mimetype": "text/x-python",
   "name": "python",
   "nbconvert_exporter": "python",
   "pygments_lexer": "ipython3",
   "version": "3.8.10"
  },
  "orig_nbformat": 4
 },
 "nbformat": 4,
 "nbformat_minor": 2
}
