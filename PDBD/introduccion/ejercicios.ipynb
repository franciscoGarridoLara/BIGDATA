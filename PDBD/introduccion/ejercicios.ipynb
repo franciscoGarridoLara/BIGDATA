{
 "cells": [
  {
   "cell_type": "code",
   "execution_count": 39,
   "metadata": {},
   "outputs": [
    {
     "name": "stdout",
     "output_type": "stream",
     "text": [
      "True\n"
     ]
    }
   ],
   "source": [
    "#Escribe una función que reciba una lista de listas de enteros, y compruebe si es válida como matriz. Es válida si todas las filas tienen el mismo número de columnas.\n",
    "\n",
    "\n",
    "def funcion(matriz):\n",
    "    return len(list(filter(lambda v : len(v) == len(matriz[0]), matriz))) == len(matriz)\n",
    "    \n",
    "print(funcion([[0,1],[2,1], [0,1], [0,2], [0,3]]))"
   ]
  },
  {
   "cell_type": "code",
   "execution_count": null,
   "metadata": {},
   "outputs": [],
   "source": [
    "#Escribe una función que reciba dos matrices (representadas como en el ejercicio anterior) y devuelva una nueva matriz con la suma. Hay que comprobar que las matrices sean válidas y tengan la misma dimensión."
   ]
  },
  {
   "cell_type": "code",
   "execution_count": null,
   "metadata": {},
   "outputs": [],
   "source": []
  }
 ],
 "metadata": {
  "kernelspec": {
   "display_name": "Python 3",
   "language": "python",
   "name": "python3"
  },
  "language_info": {
   "codemirror_mode": {
    "name": "ipython",
    "version": 3
   },
   "file_extension": ".py",
   "mimetype": "text/x-python",
   "name": "python",
   "nbconvert_exporter": "python",
   "pygments_lexer": "ipython3",
   "version": "3.10.12"
  }
 },
 "nbformat": 4,
 "nbformat_minor": 2
}
