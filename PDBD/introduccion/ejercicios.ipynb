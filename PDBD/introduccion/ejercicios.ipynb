{
 "cells": [
  {
   "cell_type": "code",
   "execution_count": 2,
   "metadata": {},
   "outputs": [
    {
     "name": "stdout",
     "output_type": "stream",
     "text": [
      "False\n"
     ]
    }
   ],
   "source": [
    "#Escribe una función que reciba una lista de listas de enteros, y compruebe si es válida como matriz. Es válida si todas las filas tienen el mismo número de columnas.\n",
    "\n",
    "\n",
    "def esValida(matriz):\n",
    "    return len(list(filter(lambda v : len(v) == len(matriz[0]), matriz))) == len(matriz)\n",
    "    \n",
    "print(esValida([[0], [0,1], [0]]))"
   ]
  },
  {
   "cell_type": "code",
   "execution_count": 32,
   "metadata": {},
   "outputs": [
    {
     "name": "stdout",
     "output_type": "stream",
     "text": [
      "[[0, 1], [0, 2]]  +  [[3, 4], [5, 6]]\n",
      "[[3, 5], [5, 8]]\n"
     ]
    }
   ],
   "source": [
    "#Escribe una función que reciba dos matrices (representadas como en el ejercicio anterior) y devuelva una nueva matriz con la suma. Hay que comprobar que las matrices sean válidas y tengan la misma dimensión.\n",
    "\n",
    "def esValida(matriz):\n",
    "    return len(list(filter(lambda v : len(v) == len(matriz[0]), matriz))) == len(matriz)\n",
    "\n",
    "def sumaMatrices(m1, m2):\n",
    "    print(m1,\" + \",m2)\n",
    "    result = list()\n",
    "    for v in zip(m1, m2):\n",
    "       result.append(list(map(sum, zip(*v))))\n",
    "\n",
    "    return result\n",
    "        \n",
    "\n",
    "matriz1 = [[0,1],[0,2]]\n",
    "matriz2 = [[3,4],[5,6]]\n",
    "\n",
    "result =sumaMatrices(matriz1, matriz2) if esValida(matriz1) and esValida(matriz2) and len(matriz1) == len(matriz2) and len(matriz1[0]) == len(matriz2[0]) else print(\"Las matrices no se pueden sumar\")\n",
    "print(result)\n"
   ]
  },
  {
   "cell_type": "code",
   "execution_count": 31,
   "metadata": {},
   "outputs": [
    {
     "name": "stdout",
     "output_type": "stream",
     "text": [
      "[0, 1, 2, 3, 4, 5, 6, 7]\n",
      "[8, 9, 10, 9, 8, 7, 6, 7]\n"
     ]
    },
    {
     "data": {
      "text/plain": [
       "[7, 10]"
      ]
     },
     "execution_count": 31,
     "metadata": {},
     "output_type": "execute_result"
    }
   ],
   "source": [
    "#1. Escribe la funcion:\n",
    "\n",
    "# buscarMaximo(matriz, eje = 2)\n",
    "\n",
    "# El primer argumento es una matriz (representada como en el ejercicio anterior) . El valor del segundo argumento indica qué cálculo hay que realizar:\n",
    "\n",
    "# Si es 0, hay que buscar el valor máximo para cada columna.  Se devolverá una lista con tantas posiciones como columnas.\n",
    "# Si es 1, hay que buscar el valor máximo para cada fila.  Se devolverá una lista con tantas posiciones como filas.\n",
    "# Si es 2, el valor por defecto, devolverá un solo número, el mayor de la matriz.\n",
    "\n",
    "# Hay que comprobar que la matriz  y el valor de eje sean válidos o lanzar excepciones apropiadas.\n",
    "\n",
    "# IMPORTANTE: la función max() devuelve el valor máximo de una lista.\n",
    "\n",
    "def buscarMaximo(matriz, eje = 2):\n",
    "    for v in matriz: print(v)\n",
    "    match eje:\n",
    "        case 0:\n",
    "            return list(map(max, matriz))\n",
    "        case 1:\n",
    "            return list(map(max, matriz))\n",
    "        case 2:\n",
    "            return False\n",
    "        \n",
    "\n",
    "buscarMaximo([[0,1,2,3,4,5,6,7],[8,9,10,9,8,7,6,7]], eje = 0)\n",
    "\n",
    "\n"
   ]
  },
  {
   "cell_type": "code",
   "execution_count": null,
   "metadata": {},
   "outputs": [],
   "source": []
  },
  {
   "cell_type": "code",
   "execution_count": null,
   "metadata": {},
   "outputs": [],
   "source": []
  }
 ],
 "metadata": {
  "kernelspec": {
   "display_name": "Python 3",
   "language": "python",
   "name": "python3"
  },
  "language_info": {
   "codemirror_mode": {
    "name": "ipython",
    "version": 3
   },
   "file_extension": ".py",
   "mimetype": "text/x-python",
   "name": "python",
   "nbconvert_exporter": "python",
   "pygments_lexer": "ipython3",
   "version": "3.10.12"
  }
 },
 "nbformat": 4,
 "nbformat_minor": 2
}
